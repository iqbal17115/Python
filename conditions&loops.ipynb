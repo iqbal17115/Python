{
 "cells": [
  {
   "cell_type": "code",
   "execution_count": null,
   "id": "a2d79d18",
   "metadata": {},
   "outputs": [],
   "source": [
    "a = True\n",
    "b = False\n",
    "print(type(a))"
   ]
  },
  {
   "cell_type": "markdown",
   "id": "7897af3c",
   "metadata": {},
   "source": [
    "# Relational Operators"
   ]
  },
  {
   "cell_type": "code",
   "execution_count": null,
   "id": "6ef0449a",
   "metadata": {},
   "outputs": [],
   "source": [
    "a = 10\n",
    "b = 20\n",
    "print(a > b)\n",
    "print(a < b)\n",
    "print(a >= b)\n",
    "print(a <= b)\n",
    "print(a == b)\n",
    "print(a != b)"
   ]
  },
  {
   "cell_type": "markdown",
   "id": "66262477",
   "metadata": {},
   "source": [
    "# Logical Operators"
   ]
  },
  {
   "cell_type": "code",
   "execution_count": null,
   "id": "ef00dbbb",
   "metadata": {},
   "outputs": [],
   "source": [
    "c1 = a > 10\n",
    "c2 = b > 10\n",
    "r1 = c1 and c2\n",
    "r2 = c1 or c2\n",
    "r3 = not(c2)\n",
    "print(c1)\n",
    "print(c2)\n",
    "print(r1)\n",
    "print(r2)\n",
    "print(r3)"
   ]
  },
  {
   "cell_type": "markdown",
   "id": "2e8d3067",
   "metadata": {},
   "source": [
    "# IF ELSE"
   ]
  },
  {
   "cell_type": "code",
   "execution_count": null,
   "id": "8b532190",
   "metadata": {},
   "outputs": [],
   "source": [
    "a = True\n",
    "if a:\n",
    "    print('I amm from If.')\n",
    "else:\n",
    "    print('I am from Else.')"
   ]
  },
  {
   "cell_type": "markdown",
   "id": "021aebdc",
   "metadata": {},
   "source": [
    "# Check number to be odd or even"
   ]
  },
  {
   "cell_type": "code",
   "execution_count": null,
   "id": "354c21b5",
   "metadata": {},
   "outputs": [],
   "source": [
    "n = int(input())\n",
    "is_even = n % 2 == 0\n",
    "if is_even:\n",
    "    print('n Is Even!!')\n",
    "else:\n",
    "    print('n Is Odd!!')"
   ]
  },
  {
   "cell_type": "markdown",
   "id": "92b8b605",
   "metadata": {},
   "source": [
    "# Using operators in If Else"
   ]
  },
  {
   "cell_type": "code",
   "execution_count": null,
   "id": "4cf3796c",
   "metadata": {},
   "outputs": [],
   "source": [
    "a = int(input())\n",
    "b = int(input())\n",
    "if a >= 10 and b >= 10:\n",
    "    print('Both are >=')\n",
    "else:\n",
    "    print('No its not!!')"
   ]
  },
  {
   "cell_type": "code",
   "execution_count": null,
   "id": "9aa3f52a",
   "metadata": {},
   "outputs": [],
   "source": [
    "a = int(input())\n",
    "if a == 10:\n",
    "    Print('Its not 10!!')\n",
    "else:\n",
    "    print('No its not!!')"
   ]
  }
 ],
 "metadata": {
  "kernelspec": {
   "display_name": "Python 3 (ipykernel)",
   "language": "python",
   "name": "python3"
  },
  "language_info": {
   "codemirror_mode": {
    "name": "ipython",
    "version": 3
   },
   "file_extension": ".py",
   "mimetype": "text/x-python",
   "name": "python",
   "nbconvert_exporter": "python",
   "pygments_lexer": "ipython3",
   "version": "3.9.7"
  }
 },
 "nbformat": 4,
 "nbformat_minor": 5
}
