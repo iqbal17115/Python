{
 "cells": [
  {
   "cell_type": "code",
   "execution_count": null,
   "id": "a2d79d18",
   "metadata": {},
   "outputs": [],
   "source": [
    "a = True\n",
    "b = False\n",
    "print(type(a))"
   ]
  },
  {
   "cell_type": "markdown",
   "id": "7897af3c",
   "metadata": {},
   "source": [
    "# Relational Operators"
   ]
  },
  {
   "cell_type": "code",
   "execution_count": null,
   "id": "6ef0449a",
   "metadata": {},
   "outputs": [],
   "source": [
    "a = 10\n",
    "b = 20\n",
    "print(a > b)\n",
    "print(a < b)\n",
    "print(a >= b)\n",
    "print(a <= b)\n",
    "print(a == b)\n",
    "print(a != b)"
   ]
  },
  {
   "cell_type": "markdown",
   "id": "66262477",
   "metadata": {},
   "source": [
    "# Logical Operators"
   ]
  },
  {
   "cell_type": "code",
   "execution_count": null,
   "id": "ef00dbbb",
   "metadata": {},
   "outputs": [],
   "source": [
    "c1 = a > 10\n",
    "c2 = b > 10\n",
    "r1 = c1 and c2\n",
    "r2 = c1 or c2\n",
    "r3 = not(c2)\n",
    "print(c1)\n",
    "print(c2)\n",
    "print(r1)\n",
    "print(r2)\n",
    "print(r3)"
   ]
  },
  {
   "cell_type": "markdown",
   "id": "2e8d3067",
   "metadata": {},
   "source": [
    "# IF ELSE"
   ]
  },
  {
   "cell_type": "code",
   "execution_count": null,
   "id": "8b532190",
   "metadata": {},
   "outputs": [],
   "source": [
    "a = True\n",
    "if a:\n",
    "    print('I amm from If.')\n",
    "else:\n",
    "    print('I am from Else.')"
   ]
  },
  {
   "cell_type": "markdown",
   "id": "021aebdc",
   "metadata": {},
   "source": [
    "# Check number to be odd or even"
   ]
  },
  {
   "cell_type": "code",
   "execution_count": null,
   "id": "354c21b5",
   "metadata": {},
   "outputs": [],
   "source": [
    "n = int(input())\n",
    "is_even = n % 2 == 0\n",
    "if is_even:\n",
    "    print('n Is Even!!')\n",
    "else:\n",
    "    print('n Is Odd!!')"
   ]
  },
  {
   "cell_type": "markdown",
   "id": "92b8b605",
   "metadata": {},
   "source": [
    "# Using operators in If Else"
   ]
  },
  {
   "cell_type": "code",
   "execution_count": null,
   "id": "4cf3796c",
   "metadata": {},
   "outputs": [],
   "source": [
    "a = int(input())\n",
    "b = int(input())\n",
    "if a >= 10 and b >= 10:\n",
    "    print('Both are >=')\n",
    "else:\n",
    "    print('No its not!!')"
   ]
  },
  {
   "cell_type": "code",
   "execution_count": null,
   "id": "9aa3f52a",
   "metadata": {},
   "outputs": [],
   "source": [
    "a = int(input())\n",
    "if a == 10:\n",
    "    Print('Its not 10!!')\n",
    "else:\n",
    "    print('No its not!!')"
   ]
  },
  {
   "cell_type": "markdown",
   "id": "7958deb1",
   "metadata": {},
   "source": [
    "# ELIF"
   ]
  },
  {
   "cell_type": "code",
   "execution_count": null,
   "id": "fd03dae9",
   "metadata": {},
   "outputs": [],
   "source": [
    "# Finding largest number\n",
    "a = int(input())\n",
    "b = int(input())\n",
    "c = int(input())\n",
    "\n",
    "if a>=b and a>=c:\n",
    "    print('A is greater!!')\n",
    "elif b>=a and b>=c:\n",
    "    print('B is greater!!')\n",
    "else:\n",
    "    print('C is greater!!')"
   ]
  },
  {
   "cell_type": "code",
   "execution_count": null,
   "id": "7d0d88c5",
   "metadata": {},
   "outputs": [],
   "source": [
    "n = int(input())\n",
    "if a>10:\n",
    "    print('Green!!')\n",
    "elif a>=5 and a<=10:\n",
    "    print('Yellow')\n",
    "elif a>=0 and a<5:\n",
    "    print('Red')"
   ]
  },
  {
   "cell_type": "markdown",
   "id": "dc35a3bc",
   "metadata": {},
   "source": [
    "# Nested If Else"
   ]
  },
  {
   "cell_type": "code",
   "execution_count": null,
   "id": "e3eab053",
   "metadata": {},
   "outputs": [],
   "source": [
    "n = int(input())\n",
    "if n % 2 == 0:\n",
    "    if n ==0:\n",
    "        print(\"It's Zero!!\")\n",
    "    else:\n",
    "        print(\"It's Even!!\")\n",
    "else:\n",
    "    print(\"It's Odd!!\")"
   ]
  },
  {
   "cell_type": "code",
   "execution_count": null,
   "id": "0481925c",
   "metadata": {},
   "outputs": [],
   "source": [
    "n = int(input())\n",
    "m = int(input())\n",
    "\n",
    "if n % 2 == 0:\n",
    "    if m % 2 == 0:\n",
    "        print(\"1\")\n",
    "    else:\n",
    "        print(\"2\")\n",
    "else:\n",
    "    print(\"3\")"
   ]
  },
  {
   "cell_type": "markdown",
   "id": "a5fc4af7",
   "metadata": {},
   "source": [
    "# While Loop"
   ]
  },
  {
   "cell_type": "code",
   "execution_count": null,
   "id": "c524b426",
   "metadata": {},
   "outputs": [],
   "source": [
    "n = int(input())\n",
    "count = 1;\n",
    "while count <= n:\n",
    "    print(1)\n",
    "    count = count + 1"
   ]
  },
  {
   "cell_type": "code",
   "execution_count": null,
   "id": "77ad83af",
   "metadata": {},
   "outputs": [],
   "source": [
    "# print first n natural number\n",
    "n = int(input())\n",
    "count = 1;\n",
    "while count <= n:\n",
    "    print(count)\n",
    "    count = count + 1"
   ]
  },
  {
   "cell_type": "markdown",
   "id": "728e8aeb",
   "metadata": {},
   "source": [
    "# Checkk Prime Number "
   ]
  },
  {
   "cell_type": "code",
   "execution_count": null,
   "id": "99fb3f62",
   "metadata": {},
   "outputs": [],
   "source": [
    "n = int(input())\n",
    "value = 2\n",
    "flag = False\n",
    "while value <= n:\n",
    "    if value % 2== 0:\n",
    "        flag = True\n",
    "    value = value + 1\n",
    "    \n",
    "if flag:\n",
    "    print(\"It's a Prime number!!\")\n",
    "else:\n",
    "    print(\"It's a Prime number!!\")\n",
    "        "
   ]
  }
 ],
 "metadata": {
  "kernelspec": {
   "display_name": "Python 3 (ipykernel)",
   "language": "python",
   "name": "python3"
  },
  "language_info": {
   "codemirror_mode": {
    "name": "ipython",
    "version": 3
   },
   "file_extension": ".py",
   "mimetype": "text/x-python",
   "name": "python",
   "nbconvert_exporter": "python",
   "pygments_lexer": "ipython3",
   "version": "3.9.7"
  }
 },
 "nbformat": 4,
 "nbformat_minor": 5
}
