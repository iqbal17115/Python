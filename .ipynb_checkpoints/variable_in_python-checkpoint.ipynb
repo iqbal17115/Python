{
 "cells": [
  {
   "cell_type": "markdown",
   "id": "8db235dc",
   "metadata": {},
   "source": [
    "# Print HelloWorld"
   ]
  },
  {
   "cell_type": "code",
   "execution_count": null,
   "id": "b0f0cec3",
   "metadata": {},
   "outputs": [],
   "source": [
    "print(\"Hello\")\n",
    "print(\"Hello\")"
   ]
  },
  {
   "cell_type": "markdown",
   "id": "136906d6",
   "metadata": {},
   "source": [
    "# Variables"
   ]
  },
  {
   "cell_type": "code",
   "execution_count": null,
   "id": "33bae4af",
   "metadata": {},
   "outputs": [],
   "source": [
    "a = 10\n",
    "b = 20\n",
    "sum = a + b\n",
    "print(sum)"
   ]
  },
  {
   "cell_type": "markdown",
   "id": "08b1c32f",
   "metadata": {},
   "source": [
    "# Variable Naming"
   ]
  },
  {
   "cell_type": "code",
   "execution_count": null,
   "id": "dc81608b",
   "metadata": {},
   "outputs": [],
   "source": [
    "_abc = 10\n",
    "# 12_abc=20"
   ]
  },
  {
   "cell_type": "markdown",
   "id": "2e0ba5cb",
   "metadata": {},
   "source": [
    "# Assign Different Types Of Data To A Variable"
   ]
  },
  {
   "cell_type": "code",
   "execution_count": null,
   "id": "68658334",
   "metadata": {},
   "outputs": [],
   "source": [
    "a = 10\n",
    "a = 'Iqbal'\n",
    "type(a)"
   ]
  },
  {
   "cell_type": "code",
   "execution_count": null,
   "id": "99ea6792",
   "metadata": {},
   "outputs": [],
   "source": [
    "a = 10\n",
    "type(a)"
   ]
  },
  {
   "cell_type": "code",
   "execution_count": null,
   "id": "93b2800e",
   "metadata": {},
   "outputs": [],
   "source": [
    "a = 10\n",
    "print(type(a))\n",
    "a = 'Iqbal'\n",
    "print(type(a))"
   ]
  },
  {
   "cell_type": "markdown",
   "id": "0e1d01ca",
   "metadata": {},
   "source": [
    "# Python Number"
   ]
  },
  {
   "cell_type": "code",
   "execution_count": null,
   "id": "c8e7975c",
   "metadata": {},
   "outputs": [],
   "source": [
    "x = 10\n",
    "y = 20\n",
    "z = 4 + 5j"
   ]
  },
  {
   "cell_type": "code",
   "execution_count": null,
   "id": "1cd43481",
   "metadata": {},
   "outputs": [],
   "source": [
    "print(type(x))\n",
    "print(type(y))\n",
    "print(type(z))"
   ]
  },
  {
   "cell_type": "code",
   "execution_count": null,
   "id": "8cc13761",
   "metadata": {},
   "outputs": [],
   "source": [
    "x=10\n",
    "y=10"
   ]
  },
  {
   "cell_type": "code",
   "execution_count": null,
   "id": "084c658a",
   "metadata": {},
   "outputs": [],
   "source": [
    "print(id(x))\n",
    "print(id(y))"
   ]
  },
  {
   "cell_type": "code",
   "execution_count": null,
   "id": "c3146e32",
   "metadata": {},
   "outputs": [],
   "source": [
    "x=100\n",
    "y=100"
   ]
  },
  {
   "cell_type": "code",
   "execution_count": null,
   "id": "39461d50",
   "metadata": {},
   "outputs": [],
   "source": [
    "print(id(x))\n",
    "print(id(y))"
   ]
  },
  {
   "cell_type": "markdown",
   "id": "c59a8e06",
   "metadata": {},
   "source": [
    "# Arithmatic Operators"
   ]
  },
  {
   "cell_type": "code",
   "execution_count": null,
   "id": "c295b098",
   "metadata": {},
   "outputs": [],
   "source": [
    "a = 25\n",
    "b = 10"
   ]
  },
  {
   "cell_type": "code",
   "execution_count": null,
   "id": "a2fa9c59",
   "metadata": {},
   "outputs": [],
   "source": [
    "print(a + b)"
   ]
  },
  {
   "cell_type": "code",
   "execution_count": null,
   "id": "c95b2b1e",
   "metadata": {},
   "outputs": [],
   "source": [
    "print(a - b)"
   ]
  },
  {
   "cell_type": "code",
   "execution_count": null,
   "id": "f1cebb29",
   "metadata": {},
   "outputs": [],
   "source": [
    "print(a * b)"
   ]
  },
  {
   "cell_type": "code",
   "execution_count": null,
   "id": "c295a7bd",
   "metadata": {},
   "outputs": [],
   "source": [
    "print(a / b) # Floating point division"
   ]
  },
  {
   "cell_type": "code",
   "execution_count": null,
   "id": "756d064e",
   "metadata": {},
   "outputs": [],
   "source": [
    "print(a // b) # Integer division"
   ]
  },
  {
   "cell_type": "code",
   "execution_count": null,
   "id": "0c5b21db",
   "metadata": {},
   "outputs": [],
   "source": [
    "print(a ** b) # Exponentiation"
   ]
  },
  {
   "cell_type": "code",
   "execution_count": null,
   "id": "2d699d7c",
   "metadata": {},
   "outputs": [],
   "source": [
    "print(a % b) # Remainder"
   ]
  },
  {
   "cell_type": "code",
   "execution_count": null,
   "id": "efe7a315",
   "metadata": {},
   "outputs": [],
   "source": [
    "x = 2\n",
    "y = 3\n",
    "z = 4"
   ]
  },
  {
   "cell_type": "code",
   "execution_count": null,
   "id": "268666dd",
   "metadata": {},
   "outputs": [],
   "source": [
    "x * y + z"
   ]
  },
  {
   "cell_type": "code",
   "execution_count": null,
   "id": "6a92dd84",
   "metadata": {},
   "outputs": [],
   "source": [
    "z + x * y"
   ]
  },
  {
   "cell_type": "code",
   "execution_count": null,
   "id": "c684ed65",
   "metadata": {},
   "outputs": [],
   "source": [
    "x * y / z"
   ]
  },
  {
   "cell_type": "code",
   "execution_count": null,
   "id": "d84ceaec",
   "metadata": {},
   "outputs": [],
   "source": [
    "x * y // z"
   ]
  },
  {
   "cell_type": "code",
   "execution_count": null,
   "id": "2e671e17",
   "metadata": {},
   "outputs": [],
   "source": [
    "# Simple Interest\n",
    "p = 100\n",
    "r = 12\n",
    "t = 2\n",
    "interest = p * r * t / 100\n",
    "print(interest)\n",
    "interest = p * r * t // 100\n",
    "print(interest)"
   ]
  },
  {
   "cell_type": "code",
   "execution_count": null,
   "id": "38849443",
   "metadata": {},
   "outputs": [],
   "source": [
    "# Fahrenheit to Celsius\n",
    "f = 99\n",
    "c = f - 32 * 5 / 9 # Wrong\n",
    "print(c)\n",
    "c = (f - 32) * 5 / 9 # Correct\n",
    "print(c)\n",
    "c = (f - 32) * 5 // 9 # Correct\n",
    "print(c)"
   ]
  },
  {
   "cell_type": "code",
   "execution_count": null,
   "id": "858f8768",
   "metadata": {},
   "outputs": [],
   "source": [
    "a = input()\n",
    "print(type(a))\n",
    "b = input()\n",
    "print(type(b))"
   ]
  },
  {
   "cell_type": "code",
   "execution_count": null,
   "id": "8e49494f",
   "metadata": {},
   "outputs": [],
   "source": [
    "sum = a + b\n",
    "print(sum)"
   ]
  },
  {
   "cell_type": "code",
   "execution_count": null,
   "id": "80644c53",
   "metadata": {},
   "outputs": [],
   "source": [
    "a = int(input())\n",
    "print(type(a))\n",
    "b = int(input())\n",
    "print(type(b))"
   ]
  },
  {
   "cell_type": "code",
   "execution_count": null,
   "id": "6ffcef5e",
   "metadata": {},
   "outputs": [],
   "source": [
    "sum = a + b\n",
    "print(sum)"
   ]
  },
  {
   "cell_type": "code",
   "execution_count": null,
   "id": "3925b57c",
   "metadata": {},
   "outputs": [],
   "source": [
    "a = 2.5\n",
    "int(a)"
   ]
  },
  {
   "cell_type": "code",
   "execution_count": null,
   "id": "f9eba5f5",
   "metadata": {},
   "outputs": [],
   "source": [
    "a = '2f5'\n",
    "# int(a) # Wrong"
   ]
  }
 ],
 "metadata": {
  "kernelspec": {
   "display_name": "Python 3 (ipykernel)",
   "language": "python",
   "name": "python3"
  },
  "language_info": {
   "codemirror_mode": {
    "name": "ipython",
    "version": 3
   },
   "file_extension": ".py",
   "mimetype": "text/x-python",
   "name": "python",
   "nbconvert_exporter": "python",
   "pygments_lexer": "ipython3",
   "version": "3.9.12"
  }
 },
 "nbformat": 4,
 "nbformat_minor": 5
}
