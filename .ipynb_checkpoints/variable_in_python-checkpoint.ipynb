{
 "cells": [
  {
   "cell_type": "markdown",
   "id": "8db235dc",
   "metadata": {},
   "source": [
    "# Print HelloWorld"
   ]
  },
  {
   "cell_type": "code",
<<<<<<< HEAD
<<<<<<< HEAD
   "execution_count": 18,
=======
   "execution_count": 399,
>>>>>>> 0d7fc4c0726f929db0eff74c2b1ebd37df1f7562
=======
   "execution_count": 97,
>>>>>>> parent of 878844f (Updated)
   "id": "b0f0cec3",
   "metadata": {},
   "outputs": [
    {
     "name": "stdout",
     "output_type": "stream",
     "text": [
      "Hello\n",
      "Hello\n"
     ]
    }
   ],
   "source": [
    "print(\"Hello\")\n",
    "print(\"Hello\")"
   ]
  },
  {
   "cell_type": "markdown",
   "id": "136906d6",
   "metadata": {},
   "source": [
    "# Variables"
   ]
  },
  {
   "cell_type": "code",
<<<<<<< HEAD
<<<<<<< HEAD
   "execution_count": 19,
=======
   "execution_count": 400,
>>>>>>> 0d7fc4c0726f929db0eff74c2b1ebd37df1f7562
=======
   "execution_count": 98,
>>>>>>> parent of 878844f (Updated)
   "id": "33bae4af",
   "metadata": {},
   "outputs": [
    {
     "name": "stdout",
     "output_type": "stream",
     "text": [
      "30\n"
     ]
    }
   ],
   "source": [
    "a = 10\n",
    "b = 20\n",
    "sum = a + b\n",
    "print(sum)"
   ]
  },
  {
   "cell_type": "markdown",
   "id": "08b1c32f",
   "metadata": {},
   "source": [
    "# Variable Naming"
   ]
  },
  {
   "cell_type": "code",
<<<<<<< HEAD
<<<<<<< HEAD
   "execution_count": 20,
=======
   "execution_count": 401,
>>>>>>> 0d7fc4c0726f929db0eff74c2b1ebd37df1f7562
=======
   "execution_count": 99,
>>>>>>> parent of 878844f (Updated)
   "id": "dc81608b",
   "metadata": {},
   "outputs": [],
   "source": [
    "_abc = 10\n",
    "# 12_abc=20"
   ]
  },
  {
   "cell_type": "markdown",
   "id": "2e0ba5cb",
   "metadata": {},
   "source": [
    "# Assign Different Types Of Data To A Variable"
   ]
  },
  {
   "cell_type": "code",
<<<<<<< HEAD
<<<<<<< HEAD
   "execution_count": 21,
=======
   "execution_count": 402,
>>>>>>> 0d7fc4c0726f929db0eff74c2b1ebd37df1f7562
=======
   "execution_count": 100,
>>>>>>> parent of 878844f (Updated)
   "id": "68658334",
   "metadata": {},
   "outputs": [
    {
     "data": {
      "text/plain": [
       "str"
      ]
     },
<<<<<<< HEAD
<<<<<<< HEAD
     "execution_count": 21,
=======
     "execution_count": 402,
>>>>>>> 0d7fc4c0726f929db0eff74c2b1ebd37df1f7562
=======
     "execution_count": 100,
>>>>>>> parent of 878844f (Updated)
     "metadata": {},
     "output_type": "execute_result"
    }
   ],
   "source": [
    "a = 10\n",
    "a = 'Iqbal'\n",
    "type(a)"
   ]
  },
  {
   "cell_type": "code",
<<<<<<< HEAD
<<<<<<< HEAD
   "execution_count": 22,
=======
   "execution_count": 403,
>>>>>>> 0d7fc4c0726f929db0eff74c2b1ebd37df1f7562
=======
   "execution_count": 101,
>>>>>>> parent of 878844f (Updated)
   "id": "99ea6792",
   "metadata": {},
   "outputs": [
    {
     "data": {
      "text/plain": [
       "int"
      ]
     },
<<<<<<< HEAD
<<<<<<< HEAD
     "execution_count": 22,
=======
     "execution_count": 403,
>>>>>>> 0d7fc4c0726f929db0eff74c2b1ebd37df1f7562
=======
     "execution_count": 101,
>>>>>>> parent of 878844f (Updated)
     "metadata": {},
     "output_type": "execute_result"
    }
   ],
   "source": [
    "a = 10\n",
    "type(a)"
   ]
  },
  {
   "cell_type": "code",
<<<<<<< HEAD
<<<<<<< HEAD
   "execution_count": 23,
=======
   "execution_count": 404,
>>>>>>> 0d7fc4c0726f929db0eff74c2b1ebd37df1f7562
=======
   "execution_count": 102,
>>>>>>> parent of 878844f (Updated)
   "id": "93b2800e",
   "metadata": {},
   "outputs": [
    {
     "name": "stdout",
     "output_type": "stream",
     "text": [
      "<class 'int'>\n",
      "<class 'str'>\n"
     ]
    }
   ],
   "source": [
    "a = 10\n",
    "print(type(a))\n",
    "a = 'Iqbal'\n",
    "print(type(a))"
   ]
  },
  {
   "cell_type": "markdown",
   "id": "30c088fc",
   "metadata": {},
   "source": [
    "# Python Number"
   ]
  },
  {
   "cell_type": "code",
<<<<<<< HEAD
<<<<<<< HEAD
   "execution_count": 24,
=======
   "execution_count": 405,
>>>>>>> 0d7fc4c0726f929db0eff74c2b1ebd37df1f7562
   "id": "c8e7975c",
=======
   "execution_count": 103,
   "id": "f15b9f88",
>>>>>>> parent of 878844f (Updated)
   "metadata": {},
   "outputs": [],
   "source": [
    "x = 10\n",
    "y = 20\n",
    "z = 4 + 5j"
   ]
  },
  {
   "cell_type": "code",
<<<<<<< HEAD
<<<<<<< HEAD
   "execution_count": 25,
=======
   "execution_count": 406,
>>>>>>> 0d7fc4c0726f929db0eff74c2b1ebd37df1f7562
   "id": "1cd43481",
=======
   "execution_count": 104,
   "id": "b212da9b",
>>>>>>> parent of 878844f (Updated)
   "metadata": {},
   "outputs": [
    {
     "name": "stdout",
     "output_type": "stream",
     "text": [
      "<class 'int'>\n",
      "<class 'int'>\n",
      "<class 'complex'>\n"
     ]
    }
   ],
   "source": [
    "print(type(x))\n",
    "print(type(y))\n",
    "print(type(z))"
   ]
  },
  {
   "cell_type": "code",
<<<<<<< HEAD
<<<<<<< HEAD
   "execution_count": 26,
=======
   "execution_count": 407,
>>>>>>> 0d7fc4c0726f929db0eff74c2b1ebd37df1f7562
   "id": "8cc13761",
=======
   "execution_count": 105,
   "id": "b336c1a5",
>>>>>>> parent of 878844f (Updated)
   "metadata": {},
   "outputs": [],
   "source": [
    "x=10\n",
    "y=10"
   ]
  },
  {
   "cell_type": "code",
<<<<<<< HEAD
<<<<<<< HEAD
   "execution_count": 27,
=======
   "execution_count": 408,
>>>>>>> 0d7fc4c0726f929db0eff74c2b1ebd37df1f7562
   "id": "084c658a",
=======
   "execution_count": 106,
   "id": "c254ecd1",
>>>>>>> parent of 878844f (Updated)
   "metadata": {},
   "outputs": [
    {
     "name": "stdout",
     "output_type": "stream",
     "text": [
<<<<<<< HEAD
<<<<<<< HEAD
      "1483480132176\n",
      "1483480132176\n"
=======
      "1726578190928\n",
      "1726578190928\n"
>>>>>>> 0d7fc4c0726f929db0eff74c2b1ebd37df1f7562
=======
      "3154558741072\n",
      "3154558741072\n"
>>>>>>> parent of 878844f (Updated)
     ]
    }
   ],
   "source": [
    "print(id(x))\n",
    "print(id(y))"
   ]
  },
  {
   "cell_type": "code",
<<<<<<< HEAD
<<<<<<< HEAD
   "execution_count": 28,
=======
   "execution_count": 409,
>>>>>>> 0d7fc4c0726f929db0eff74c2b1ebd37df1f7562
   "id": "c3146e32",
=======
   "execution_count": null,
   "id": "b9a78a26",
>>>>>>> parent of 878844f (Updated)
   "metadata": {},
   "outputs": [],
   "source": [
    "x=100\n",
    "y=100"
   ]
  },
  {
   "cell_type": "code",
<<<<<<< HEAD
<<<<<<< HEAD
   "execution_count": 29,
=======
   "execution_count": 410,
>>>>>>> 0d7fc4c0726f929db0eff74c2b1ebd37df1f7562
   "id": "39461d50",
   "metadata": {},
   "outputs": [
    {
     "name": "stdout",
     "output_type": "stream",
     "text": [
<<<<<<< HEAD
      "1483480323536\n",
      "1483480323536\n"
=======
      "1726578382288\n",
      "1726578382288\n"
>>>>>>> 0d7fc4c0726f929db0eff74c2b1ebd37df1f7562
     ]
    }
   ],
=======
   "execution_count": null,
   "id": "ea471a93",
   "metadata": {},
   "outputs": [],
>>>>>>> parent of 878844f (Updated)
   "source": [
    "print(id(x))\n",
    "print(id(y))"
   ]
<<<<<<< HEAD
  },
  {
   "cell_type": "markdown",
<<<<<<< HEAD
   "id": "0735035b",
   "metadata": {},
   "source": [
    "# Input"
=======
   "id": "8b8ccaae",
   "metadata": {},
   "source": [
    "# Arithmatic Operators"
>>>>>>> 0d7fc4c0726f929db0eff74c2b1ebd37df1f7562
   ]
  },
  {
   "cell_type": "code",
<<<<<<< HEAD
   "execution_count": 30,
   "id": "512cfd21",
   "metadata": {},
   "outputs": [
    {
     "name": "stdout",
     "output_type": "stream",
     "text": [
      "1\n"
     ]
    },
    {
     "data": {
      "text/plain": [
       "str"
      ]
     },
     "execution_count": 30,
     "metadata": {},
     "output_type": "execute_result"
    }
   ],
   "source": [
    "a = input()\n",
    "type(a)"
   ]
  },
  {
   "cell_type": "code",
   "execution_count": 31,
   "id": "4477dad8",
   "metadata": {},
   "outputs": [
    {
     "name": "stdout",
     "output_type": "stream",
     "text": [
      "1\n"
     ]
    },
    {
     "data": {
      "text/plain": [
       "str"
      ]
     },
     "execution_count": 31,
     "metadata": {},
     "output_type": "execute_result"
    }
   ],
   "source": [
    "b = input()\n",
    "type(b)"
   ]
  },
  {
   "cell_type": "code",
   "execution_count": 32,
   "id": "ed206bbc",
   "metadata": {},
   "outputs": [
    {
     "data": {
      "text/plain": [
       "'11'"
      ]
     },
     "execution_count": 32,
     "metadata": {},
     "output_type": "execute_result"
    }
   ],
   "source": [
    "sum = a + b\n",
    "sum"
   ]
  },
  {
   "cell_type": "code",
   "execution_count": 33,
   "id": "ec097076",
   "metadata": {},
   "outputs": [
    {
     "name": "stdout",
     "output_type": "stream",
     "text": [
      "2\n",
      "<class 'int'>\n",
      "3\n",
      "<class 'int'>\n"
     ]
    }
   ],
   "source": [
    "a = int(input())\n",
    "print(type(a))\n",
    "b = int(input())\n",
    "print(type(b))"
   ]
  },
  {
   "cell_type": "code",
   "execution_count": 34,
   "id": "57541472",
   "metadata": {},
   "outputs": [
    {
     "data": {
      "text/plain": [
       "5"
      ]
     },
     "execution_count": 34,
     "metadata": {},
     "output_type": "execute_result"
    }
   ],
   "source": [
    "sum = a + b\n",
    "sum"
   ]
  },
  {
   "cell_type": "code",
   "execution_count": 35,
   "id": "b1d1d4ba",
   "metadata": {},
   "outputs": [
    {
     "ename": "ValueError",
     "evalue": "invalid literal for int() with base 10: '2f3'",
     "output_type": "error",
     "traceback": [
      "\u001b[1;31m---------------------------------------------------------------------------\u001b[0m",
      "\u001b[1;31mValueError\u001b[0m                                Traceback (most recent call last)",
      "\u001b[1;32mC:\\Users\\IQBALK~1\\AppData\\Local\\Temp/ipykernel_3264/3486772979.py\u001b[0m in \u001b[0;36m<module>\u001b[1;34m\u001b[0m\n\u001b[0;32m      1\u001b[0m \u001b[0ma\u001b[0m \u001b[1;33m=\u001b[0m \u001b[1;34m'2f3'\u001b[0m\u001b[1;33m\u001b[0m\u001b[1;33m\u001b[0m\u001b[0m\n\u001b[1;32m----> 2\u001b[1;33m \u001b[0ma\u001b[0m \u001b[1;33m=\u001b[0m \u001b[0mint\u001b[0m\u001b[1;33m(\u001b[0m\u001b[0ma\u001b[0m\u001b[1;33m)\u001b[0m\u001b[1;33m\u001b[0m\u001b[1;33m\u001b[0m\u001b[0m\n\u001b[0m",
      "\u001b[1;31mValueError\u001b[0m: invalid literal for int() with base 10: '2f3'"
     ]
    }
   ],
   "source": [
    "a = '2f3'\n",
    "# a = int(a) Wrong"
   ]
  },
  {
   "cell_type": "code",
   "execution_count": null,
   "id": "012621dc",
   "metadata": {},
   "outputs": [],
   "source": []
  },
  {
   "cell_type": "code",
   "execution_count": null,
   "id": "9af54570",
   "metadata": {},
   "outputs": [],
   "source": []
=======
   "execution_count": 411,
   "id": "9fc4a59e",
   "metadata": {},
   "outputs": [],
   "source": [
    "a = 25\n",
    "b = 10"
   ]
  },
  {
   "cell_type": "code",
   "execution_count": 412,
   "id": "4933529a",
   "metadata": {},
   "outputs": [
    {
     "name": "stdout",
     "output_type": "stream",
     "text": [
      "35\n"
     ]
    }
   ],
   "source": [
    "print(a + b)"
   ]
  },
  {
   "cell_type": "code",
   "execution_count": 413,
   "id": "ff115804",
   "metadata": {},
   "outputs": [
    {
     "name": "stdout",
     "output_type": "stream",
     "text": [
      "15\n"
     ]
    }
   ],
   "source": [
    "print(a - b)"
   ]
  },
  {
   "cell_type": "code",
   "execution_count": 414,
   "id": "60682741",
   "metadata": {},
   "outputs": [
    {
     "name": "stdout",
     "output_type": "stream",
     "text": [
      "250\n"
     ]
    }
   ],
   "source": [
    "print(a * b)"
   ]
  },
  {
   "cell_type": "code",
   "execution_count": 415,
   "id": "41abed22",
   "metadata": {},
   "outputs": [
    {
     "name": "stdout",
     "output_type": "stream",
     "text": [
      "2.5\n"
     ]
    }
   ],
   "source": [
    "print(a / b) # Floating point division"
   ]
  },
  {
   "cell_type": "code",
   "execution_count": 416,
   "id": "4041b92c",
   "metadata": {},
   "outputs": [
    {
     "name": "stdout",
     "output_type": "stream",
     "text": [
      "2\n"
     ]
    }
   ],
   "source": [
    "print(a // b) # Integer division"
   ]
  },
  {
   "cell_type": "code",
   "execution_count": 417,
   "id": "21ea933b",
   "metadata": {},
   "outputs": [
    {
     "name": "stdout",
     "output_type": "stream",
     "text": [
      "95367431640625\n"
     ]
    }
   ],
   "source": [
    "print(a ** b) # Exponentiation"
   ]
  },
  {
   "cell_type": "code",
   "execution_count": 418,
   "id": "ddfbb9cc",
   "metadata": {},
   "outputs": [
    {
     "name": "stdout",
     "output_type": "stream",
     "text": [
      "5\n"
     ]
    }
   ],
   "source": [
    "print(a % b) # Remainder"
   ]
  },
  {
   "cell_type": "code",
   "execution_count": 419,
   "id": "e81b6814",
   "metadata": {},
   "outputs": [],
   "source": [
    "x = 2\n",
    "y = 3\n",
    "z = 4"
   ]
  },
  {
   "cell_type": "code",
   "execution_count": 420,
   "id": "8592838e",
   "metadata": {},
   "outputs": [
    {
     "data": {
      "text/plain": [
       "10"
      ]
     },
     "execution_count": 420,
     "metadata": {},
     "output_type": "execute_result"
    }
   ],
   "source": [
    "x * y + z"
   ]
  },
  {
   "cell_type": "code",
   "execution_count": 421,
   "id": "e1750ec9",
   "metadata": {},
   "outputs": [
    {
     "data": {
      "text/plain": [
       "10"
      ]
     },
     "execution_count": 421,
     "metadata": {},
     "output_type": "execute_result"
    }
   ],
   "source": [
    "z + x * y"
   ]
  },
  {
   "cell_type": "code",
   "execution_count": 422,
   "id": "99ca1ba9",
   "metadata": {},
   "outputs": [
    {
     "data": {
      "text/plain": [
       "1.5"
      ]
     },
     "execution_count": 422,
     "metadata": {},
     "output_type": "execute_result"
    }
   ],
   "source": [
    "x * y / z"
   ]
  },
  {
   "cell_type": "code",
   "execution_count": 423,
   "id": "96a531fd",
   "metadata": {},
   "outputs": [
    {
     "data": {
      "text/plain": [
       "1"
      ]
     },
     "execution_count": 423,
     "metadata": {},
     "output_type": "execute_result"
    }
   ],
   "source": [
    "x * y // z"
   ]
  },
  {
   "cell_type": "code",
   "execution_count": 424,
   "id": "cbe6c4ec",
   "metadata": {},
   "outputs": [
    {
     "name": "stdout",
     "output_type": "stream",
     "text": [
      "24.0\n",
      "24\n"
     ]
    }
   ],
   "source": [
    "# Simple Interest\n",
    "p = 100\n",
    "r = 12\n",
    "t = 2\n",
    "interest = p * r * t / 100\n",
    "print(interest)\n",
    "interest = p * r * t // 100\n",
    "print(interest)"
   ]
  },
  {
   "cell_type": "code",
   "execution_count": 425,
   "id": "82a6e199",
   "metadata": {},
   "outputs": [
    {
     "name": "stdout",
     "output_type": "stream",
     "text": [
      "81.22222222222223\n",
      "37.22222222222222\n",
      "37\n"
     ]
    }
   ],
   "source": [
    "# Fahrenheit to Celsius\n",
    "f = 99\n",
    "c = f - 32 * 5 / 9 # Wrong\n",
    "print(c)\n",
    "c = (f - 32) * 5 / 9 # Correct\n",
    "print(c)\n",
    "c = (f - 32) * 5 // 9 # Correct\n",
    "print(c)"
   ]
>>>>>>> 0d7fc4c0726f929db0eff74c2b1ebd37df1f7562
=======
>>>>>>> parent of 878844f (Updated)
  }
 ],
 "metadata": {
  "kernelspec": {
   "display_name": "Python 3 (ipykernel)",
   "language": "python",
   "name": "python3"
  },
  "language_info": {
   "codemirror_mode": {
    "name": "ipython",
    "version": 3
   },
   "file_extension": ".py",
   "mimetype": "text/x-python",
   "name": "python",
   "nbconvert_exporter": "python",
   "pygments_lexer": "ipython3",
   "version": "3.9.12"
  }
 },
 "nbformat": 4,
 "nbformat_minor": 5
}
