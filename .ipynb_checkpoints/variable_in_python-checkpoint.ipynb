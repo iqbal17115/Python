{
 "cells": [
  {
   "cell_type": "markdown",
   "id": "8db235dc",
   "metadata": {},
   "source": [
    "# Print HelloWorld"
   ]
  },
  {
   "cell_type": "code",
   "execution_count": 14,
   "id": "b0f0cec3",
   "metadata": {},
   "outputs": [
    {
     "name": "stdout",
     "output_type": "stream",
     "text": [
      "Hello\n",
      "Hello\n"
     ]
    }
   ],
   "source": [
    "print(\"Hello\")\n",
    "print(\"Hello\")"
   ]
  },
  {
   "cell_type": "markdown",
   "id": "136906d6",
   "metadata": {},
   "source": [
    "# Variables"
   ]
  },
  {
   "cell_type": "code",
   "execution_count": 15,
   "id": "33bae4af",
   "metadata": {},
   "outputs": [
    {
     "name": "stdout",
     "output_type": "stream",
     "text": [
      "30\n"
     ]
    }
   ],
   "source": [
    "a = 10\n",
    "b = 20\n",
    "sum = a + b\n",
    "print(sum)"
   ]
  },
  {
   "cell_type": "markdown",
   "id": "eda5a0f8",
   "metadata": {},
   "source": [
    "# Variable Naming"
   ]
  },
  {
   "cell_type": "code",
   "execution_count": 16,
   "id": "388d1b5c",
   "metadata": {},
   "outputs": [],
   "source": [
    "_abc = 10\n",
    "# 12_abc=20"
   ]
  },
  {
   "cell_type": "markdown",
   "id": "d8adb9e0",
   "metadata": {},
   "source": [
    "# Assign Different Types Of Data To A Variable"
   ]
  },
  {
   "cell_type": "code",
   "execution_count": 17,
   "id": "b1c32a88",
   "metadata": {},
   "outputs": [
    {
     "data": {
      "text/plain": [
       "str"
      ]
     },
     "execution_count": 17,
     "metadata": {},
     "output_type": "execute_result"
    }
   ],
   "source": [
    "a = 10\n",
    "a = 'Iqbal'\n",
    "type(a)"
   ]
  },
  {
   "cell_type": "code",
   "execution_count": 18,
   "id": "d1cb8586",
   "metadata": {},
   "outputs": [
    {
     "data": {
      "text/plain": [
       "int"
      ]
     },
     "execution_count": 18,
     "metadata": {},
     "output_type": "execute_result"
    }
   ],
   "source": [
    "a = 10\n",
    "type(a)"
   ]
  },
  {
   "cell_type": "code",
   "execution_count": null,
   "id": "e580c6de",
   "metadata": {},
   "outputs": [],
   "source": [
    "a = 10\n",
    "print(type(a))\n",
    "a = 'Iqbal'\n",
    "print(type(a))"
   ]
  }
 ],
 "metadata": {
  "kernelspec": {
   "display_name": "Python 3 (ipykernel)",
   "language": "python",
   "name": "python3"
  },
  "language_info": {
   "codemirror_mode": {
    "name": "ipython",
    "version": 3
   },
   "file_extension": ".py",
   "mimetype": "text/x-python",
   "name": "python",
   "nbconvert_exporter": "python",
   "pygments_lexer": "ipython3",
   "version": "3.9.7"
  }
 },
 "nbformat": 4,
 "nbformat_minor": 5
}
