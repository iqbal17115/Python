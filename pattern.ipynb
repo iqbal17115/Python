{
 "cells": [
  {
   "cell_type": "markdown",
   "id": "3304850a",
   "metadata": {},
   "source": [
    "# Square Pattern"
   ]
  },
  {
   "cell_type": "code",
   "execution_count": 37,
   "id": "c58c5dce",
   "metadata": {},
   "outputs": [
    {
     "name": "stdout",
     "output_type": "stream",
     "text": [
      "4\n",
      "****\n",
      "****\n",
      "****\n",
      "****\n"
     ]
    }
   ],
   "source": [
    "n = int(input())\n",
    "i = 1\n",
    "while i <= n:\n",
    "    j=1\n",
    "    while j <= n:\n",
    "        print('*', end = '')\n",
    "        j = j + 1\n",
    "    print()\n",
    "    i = i + 1"
   ]
  },
  {
   "cell_type": "code",
   "execution_count": 38,
   "id": "9539b100",
   "metadata": {},
   "outputs": [
    {
     "name": "stdout",
     "output_type": "stream",
     "text": [
      "4321\n",
      "4321\n",
      "4321\n",
      "4321\n"
     ]
    }
   ],
   "source": [
    "i = 1\n",
    "while i <= n:\n",
    "    j = n\n",
    "    while j >= 1:\n",
    "        print(j, end = '')\n",
    "        j = j - 1\n",
    "    print()\n",
    "    i = i + 1"
   ]
  },
  {
   "cell_type": "markdown",
   "id": "5ca70f79",
   "metadata": {},
   "source": [
    "# Triangle"
   ]
  },
  {
   "cell_type": "code",
   "execution_count": 39,
   "id": "ff155292",
   "metadata": {
    "scrolled": true
   },
   "outputs": [
    {
     "name": "stdout",
     "output_type": "stream",
     "text": [
      "1\n",
      "12\n",
      "123\n",
      "1234\n"
     ]
    }
   ],
   "source": [
    "i = 1\n",
    "while i <= n:\n",
    "    j = 1\n",
    "    p = j\n",
    "    while j <= i:\n",
    "        print(p, end = '')\n",
    "        p = p + 1\n",
    "        j = j + 1\n",
    "    print()\n",
    "    i = i + 1"
   ]
  },
  {
   "cell_type": "markdown",
   "id": "4fe5ddd5",
   "metadata": {},
   "source": [
    "# Print Kth Alphabet"
   ]
  },
  {
   "cell_type": "code",
   "execution_count": 40,
   "id": "50986250",
   "metadata": {},
   "outputs": [
    {
     "name": "stdout",
     "output_type": "stream",
     "text": [
      "4\n"
     ]
    },
    {
     "data": {
      "text/plain": [
       "68"
      ]
     },
     "execution_count": 40,
     "metadata": {},
     "output_type": "execute_result"
    }
   ],
   "source": [
    "k = int(input())\n",
    "x = ord('A')\n",
    "ascciTarget = x + k -1\n",
    "targetChr = chr(ascciTarget)\n",
    "ascciTarget"
   ]
  },
  {
   "cell_type": "code",
   "execution_count": 41,
   "id": "2aa6ce71",
   "metadata": {},
   "outputs": [
    {
     "name": "stdout",
     "output_type": "stream",
     "text": [
      "6\n",
      "ABCDEF\n",
      "BCDEFG\n",
      "CDEFGH\n",
      "DEFGHI\n",
      "EFGHIJ\n",
      "FGHIJK\n"
     ]
    }
   ],
   "source": [
    "n = int(input())\n",
    "i = 1\n",
    "while i <= n:\n",
    "    j = 1\n",
    "    start_char = chr(ord('A') + i -1)\n",
    "    while j <= n:\n",
    "        charPrint = chr(ord(start_char) + j - 1)\n",
    "        print(charPrint, end = '')\n",
    "        j = j + 1\n",
    "    print()\n",
    "    i = i + 1"
   ]
  }
 ],
 "metadata": {
  "kernelspec": {
   "display_name": "Python 3 (ipykernel)",
   "language": "python",
   "name": "python3"
  },
  "language_info": {
   "codemirror_mode": {
    "name": "ipython",
    "version": 3
   },
   "file_extension": ".py",
   "mimetype": "text/x-python",
   "name": "python",
   "nbconvert_exporter": "python",
   "pygments_lexer": "ipython3",
   "version": "3.9.13"
  }
 },
 "nbformat": 4,
 "nbformat_minor": 5
}
