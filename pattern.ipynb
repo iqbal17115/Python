{
 "cells": [
  {
   "cell_type": "markdown",
   "id": "3304850a",
   "metadata": {},
   "source": [
    "# Square Pattern"
   ]
  },
  {
   "cell_type": "code",
   "execution_count": 1,
   "id": "c58c5dce",
   "metadata": {},
   "outputs": [
    {
     "name": "stdout",
     "output_type": "stream",
     "text": [
      "4\n",
      "****\n",
      "****\n",
      "****\n",
      "****\n"
     ]
    }
   ],
   "source": [
    "n = int(input())\n",
    "i = 1\n",
    "while i <= n:\n",
    "    j=1\n",
    "    while j <= n:\n",
    "        print('*', end = '')\n",
    "        j = j + 1\n",
    "    print()\n",
    "    i = i + 1"
   ]
  },
  {
   "cell_type": "code",
   "execution_count": 2,
   "id": "9539b100",
   "metadata": {},
   "outputs": [
    {
     "name": "stdout",
     "output_type": "stream",
     "text": [
      "4321432143214321"
     ]
    }
   ],
   "source": [
    "i = 1\n",
    "while i <= n:\n",
    "    j = n\n",
    "    while j >= 1:\n",
    "        print(j, end = '')\n",
    "        j = j - 1\n",
    "    print()\n",
    "    i = i + 1"
   ]
  }
 ],
 "metadata": {
  "kernelspec": {
   "display_name": "Python 3 (ipykernel)",
   "language": "python",
   "name": "python3"
  },
  "language_info": {
   "codemirror_mode": {
    "name": "ipython",
    "version": 3
   },
   "file_extension": ".py",
   "mimetype": "text/x-python",
   "name": "python",
   "nbconvert_exporter": "python",
   "pygments_lexer": "ipython3",
   "version": "3.9.13"
  }
 },
 "nbformat": 4,
 "nbformat_minor": 5
}
