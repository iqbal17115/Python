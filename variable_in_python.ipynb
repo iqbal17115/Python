{
 "cells": [
  {
   "cell_type": "markdown",
   "id": "8db235dc",
   "metadata": {},
   "source": [
    "# Print HelloWorld"
   ]
  },
  {
   "cell_type": "code",
<<<<<<< HEAD
   "execution_count": 36,
=======
   "execution_count": 426,
>>>>>>> 0d7fc4c0726f929db0eff74c2b1ebd37df1f7562
   "id": "b0f0cec3",
   "metadata": {},
   "outputs": [
    {
     "name": "stdout",
     "output_type": "stream",
     "text": [
      "Hello\n",
      "Hello\n"
     ]
    }
   ],
   "source": [
    "print(\"Hello\")\n",
    "print(\"Hello\")"
   ]
  },
  {
   "cell_type": "markdown",
   "id": "136906d6",
   "metadata": {},
   "source": [
    "# Variables"
   ]
  },
  {
   "cell_type": "code",
<<<<<<< HEAD
   "execution_count": 37,
=======
   "execution_count": 427,
>>>>>>> 0d7fc4c0726f929db0eff74c2b1ebd37df1f7562
   "id": "33bae4af",
   "metadata": {},
   "outputs": [
    {
     "name": "stdout",
     "output_type": "stream",
     "text": [
      "30\n"
     ]
    }
   ],
   "source": [
    "a = 10\n",
    "b = 20\n",
    "sum = a + b\n",
    "print(sum)"
   ]
  },
  {
   "cell_type": "markdown",
   "id": "08b1c32f",
   "metadata": {},
   "source": [
    "# Variable Naming"
   ]
  },
  {
   "cell_type": "code",
<<<<<<< HEAD
   "execution_count": 38,
=======
   "execution_count": 428,
>>>>>>> 0d7fc4c0726f929db0eff74c2b1ebd37df1f7562
   "id": "dc81608b",
   "metadata": {},
   "outputs": [],
   "source": [
    "_abc = 10\n",
    "# 12_abc=20"
   ]
  },
  {
   "cell_type": "markdown",
   "id": "2e0ba5cb",
   "metadata": {},
   "source": [
    "# Assign Different Types Of Data To A Variable"
   ]
  },
  {
   "cell_type": "code",
<<<<<<< HEAD
   "execution_count": 39,
=======
   "execution_count": 429,
>>>>>>> 0d7fc4c0726f929db0eff74c2b1ebd37df1f7562
   "id": "68658334",
   "metadata": {},
   "outputs": [
    {
     "data": {
      "text/plain": [
       "str"
      ]
     },
<<<<<<< HEAD
     "execution_count": 39,
=======
     "execution_count": 429,
>>>>>>> 0d7fc4c0726f929db0eff74c2b1ebd37df1f7562
     "metadata": {},
     "output_type": "execute_result"
    }
   ],
   "source": [
    "a = 10\n",
    "a = 'Iqbal'\n",
    "type(a)"
   ]
  },
  {
   "cell_type": "code",
<<<<<<< HEAD
   "execution_count": 40,
=======
   "execution_count": 430,
>>>>>>> 0d7fc4c0726f929db0eff74c2b1ebd37df1f7562
   "id": "99ea6792",
   "metadata": {},
   "outputs": [
    {
     "data": {
      "text/plain": [
       "int"
      ]
     },
<<<<<<< HEAD
     "execution_count": 40,
=======
     "execution_count": 430,
>>>>>>> 0d7fc4c0726f929db0eff74c2b1ebd37df1f7562
     "metadata": {},
     "output_type": "execute_result"
    }
   ],
   "source": [
    "a = 10\n",
    "type(a)"
   ]
  },
  {
   "cell_type": "code",
<<<<<<< HEAD
   "execution_count": 41,
=======
   "execution_count": 431,
>>>>>>> 0d7fc4c0726f929db0eff74c2b1ebd37df1f7562
   "id": "93b2800e",
   "metadata": {},
   "outputs": [
    {
     "name": "stdout",
     "output_type": "stream",
     "text": [
      "<class 'int'>\n",
      "<class 'str'>\n"
     ]
    }
   ],
   "source": [
    "a = 10\n",
    "print(type(a))\n",
    "a = 'Iqbal'\n",
    "print(type(a))"
   ]
  },
  {
   "cell_type": "markdown",
   "id": "0e1d01ca",
   "metadata": {},
   "source": [
    "# Python Number"
   ]
  },
  {
   "cell_type": "code",
<<<<<<< HEAD
   "execution_count": 42,
=======
   "execution_count": 432,
>>>>>>> 0d7fc4c0726f929db0eff74c2b1ebd37df1f7562
   "id": "c8e7975c",
   "metadata": {},
   "outputs": [],
   "source": [
    "x = 10\n",
    "y = 20\n",
    "z = 4 + 5j"
   ]
  },
  {
   "cell_type": "code",
<<<<<<< HEAD
   "execution_count": 43,
=======
   "execution_count": 433,
>>>>>>> 0d7fc4c0726f929db0eff74c2b1ebd37df1f7562
   "id": "1cd43481",
   "metadata": {},
   "outputs": [
    {
     "name": "stdout",
     "output_type": "stream",
     "text": [
      "<class 'int'>\n",
      "<class 'int'>\n",
      "<class 'complex'>\n"
     ]
    }
   ],
   "source": [
    "print(type(x))\n",
    "print(type(y))\n",
    "print(type(z))"
   ]
  },
  {
   "cell_type": "code",
<<<<<<< HEAD
   "execution_count": 44,
=======
   "execution_count": 434,
>>>>>>> 0d7fc4c0726f929db0eff74c2b1ebd37df1f7562
   "id": "8cc13761",
   "metadata": {},
   "outputs": [],
   "source": [
    "x=10\n",
    "y=10"
   ]
  },
  {
   "cell_type": "code",
<<<<<<< HEAD
   "execution_count": 45,
=======
   "execution_count": 435,
>>>>>>> 0d7fc4c0726f929db0eff74c2b1ebd37df1f7562
   "id": "084c658a",
   "metadata": {},
   "outputs": [
    {
     "name": "stdout",
     "output_type": "stream",
     "text": [
<<<<<<< HEAD
      "1483480132176\n",
      "1483480132176\n"
=======
      "1726578190928\n",
      "1726578190928\n"
>>>>>>> 0d7fc4c0726f929db0eff74c2b1ebd37df1f7562
     ]
    }
   ],
   "source": [
    "print(id(x))\n",
    "print(id(y))"
   ]
  },
  {
   "cell_type": "code",
<<<<<<< HEAD
   "execution_count": 46,
=======
   "execution_count": 436,
>>>>>>> 0d7fc4c0726f929db0eff74c2b1ebd37df1f7562
   "id": "c3146e32",
   "metadata": {},
   "outputs": [],
   "source": [
    "x=100\n",
    "y=100"
   ]
  },
  {
   "cell_type": "code",
<<<<<<< HEAD
   "execution_count": 47,
=======
   "execution_count": 437,
>>>>>>> 0d7fc4c0726f929db0eff74c2b1ebd37df1f7562
   "id": "39461d50",
   "metadata": {},
   "outputs": [
    {
     "name": "stdout",
     "output_type": "stream",
     "text": [
<<<<<<< HEAD
      "1483480323536\n",
      "1483480323536\n"
=======
      "1726578382288\n",
      "1726578382288\n"
>>>>>>> 0d7fc4c0726f929db0eff74c2b1ebd37df1f7562
     ]
    }
   ],
   "source": [
    "print(id(x))\n",
    "print(id(y))"
   ]
  },
  {
   "cell_type": "markdown",
<<<<<<< HEAD
   "id": "0735035b",
   "metadata": {},
   "source": [
    "# Input"
=======
   "id": "c59a8e06",
   "metadata": {},
   "source": [
    "# Arithmatic Operators"
>>>>>>> 0d7fc4c0726f929db0eff74c2b1ebd37df1f7562
   ]
  },
  {
   "cell_type": "code",
<<<<<<< HEAD
   "execution_count": null,
   "id": "512cfd21",
   "metadata": {},
   "outputs": [],
   "source": [
    "a = input()\n",
    "type(a)"
=======
   "execution_count": 438,
   "id": "c295b098",
   "metadata": {},
   "outputs": [],
   "source": [
    "a = 25\n",
    "b = 10"
>>>>>>> 0d7fc4c0726f929db0eff74c2b1ebd37df1f7562
   ]
  },
  {
   "cell_type": "code",
<<<<<<< HEAD
   "execution_count": null,
   "id": "4477dad8",
   "metadata": {},
   "outputs": [],
   "source": [
    "b = input()\n",
    "type(b)"
=======
   "execution_count": 439,
   "id": "a2fa9c59",
   "metadata": {},
   "outputs": [
    {
     "name": "stdout",
     "output_type": "stream",
     "text": [
      "35\n"
     ]
    }
   ],
   "source": [
    "print(a + b)"
>>>>>>> 0d7fc4c0726f929db0eff74c2b1ebd37df1f7562
   ]
  },
  {
   "cell_type": "code",
<<<<<<< HEAD
   "execution_count": null,
   "id": "ed206bbc",
   "metadata": {},
   "outputs": [],
   "source": [
    "sum = a + b\n",
    "sum"
=======
   "execution_count": 440,
   "id": "c95b2b1e",
   "metadata": {},
   "outputs": [
    {
     "name": "stdout",
     "output_type": "stream",
     "text": [
      "15\n"
     ]
    }
   ],
   "source": [
    "print(a - b)"
>>>>>>> 0d7fc4c0726f929db0eff74c2b1ebd37df1f7562
   ]
  },
  {
   "cell_type": "code",
<<<<<<< HEAD
   "execution_count": null,
   "id": "ec097076",
   "metadata": {},
   "outputs": [],
   "source": [
    "a = int(input())\n",
    "print(type(a))\n",
    "b = int(input())\n",
    "print(type(b))"
=======
   "execution_count": 441,
   "id": "f1cebb29",
   "metadata": {},
   "outputs": [
    {
     "name": "stdout",
     "output_type": "stream",
     "text": [
      "250\n"
     ]
    }
   ],
   "source": [
    "print(a * b)"
>>>>>>> 0d7fc4c0726f929db0eff74c2b1ebd37df1f7562
   ]
  },
  {
   "cell_type": "code",
<<<<<<< HEAD
   "execution_count": null,
   "id": "57541472",
   "metadata": {},
   "outputs": [],
   "source": [
    "sum = a + b\n",
    "sum"
=======
   "execution_count": 442,
   "id": "c295a7bd",
   "metadata": {},
   "outputs": [
    {
     "name": "stdout",
     "output_type": "stream",
     "text": [
      "2.5\n"
     ]
    }
   ],
   "source": [
    "print(a / b) # Floating point division"
>>>>>>> 0d7fc4c0726f929db0eff74c2b1ebd37df1f7562
   ]
  },
  {
   "cell_type": "code",
<<<<<<< HEAD
   "execution_count": null,
   "id": "b1d1d4ba",
   "metadata": {},
   "outputs": [],
   "source": [
    "a = '2f3'\n",
    "# a = int(a) Wrong"
=======
   "execution_count": 443,
   "id": "756d064e",
   "metadata": {},
   "outputs": [
    {
     "name": "stdout",
     "output_type": "stream",
     "text": [
      "2\n"
     ]
    }
   ],
   "source": [
    "print(a // b) # Integer division"
>>>>>>> 0d7fc4c0726f929db0eff74c2b1ebd37df1f7562
   ]
  },
  {
   "cell_type": "code",
<<<<<<< HEAD
   "execution_count": null,
   "id": "012621dc",
   "metadata": {},
   "outputs": [],
   "source": []
  },
  {
   "cell_type": "code",
   "execution_count": null,
   "id": "9af54570",
   "metadata": {},
   "outputs": [],
   "source": []
=======
   "execution_count": 444,
   "id": "0c5b21db",
   "metadata": {},
   "outputs": [
    {
     "name": "stdout",
     "output_type": "stream",
     "text": [
      "95367431640625\n"
     ]
    }
   ],
   "source": [
    "print(a ** b) # Exponentiation"
   ]
  },
  {
   "cell_type": "code",
   "execution_count": 445,
   "id": "2d699d7c",
   "metadata": {},
   "outputs": [
    {
     "name": "stdout",
     "output_type": "stream",
     "text": [
      "5\n"
     ]
    }
   ],
   "source": [
    "print(a % b) # Remainder"
   ]
  },
  {
   "cell_type": "code",
   "execution_count": 446,
   "id": "efe7a315",
   "metadata": {},
   "outputs": [],
   "source": [
    "x = 2\n",
    "y = 3\n",
    "z = 4"
   ]
  },
  {
   "cell_type": "code",
   "execution_count": 447,
   "id": "268666dd",
   "metadata": {},
   "outputs": [
    {
     "data": {
      "text/plain": [
       "10"
      ]
     },
     "execution_count": 447,
     "metadata": {},
     "output_type": "execute_result"
    }
   ],
   "source": [
    "x * y + z"
   ]
  },
  {
   "cell_type": "code",
   "execution_count": 448,
   "id": "6a92dd84",
   "metadata": {},
   "outputs": [
    {
     "data": {
      "text/plain": [
       "10"
      ]
     },
     "execution_count": 448,
     "metadata": {},
     "output_type": "execute_result"
    }
   ],
   "source": [
    "z + x * y"
   ]
  },
  {
   "cell_type": "code",
   "execution_count": 449,
   "id": "c684ed65",
   "metadata": {},
   "outputs": [
    {
     "data": {
      "text/plain": [
       "1.5"
      ]
     },
     "execution_count": 449,
     "metadata": {},
     "output_type": "execute_result"
    }
   ],
   "source": [
    "x * y / z"
   ]
  },
  {
   "cell_type": "code",
   "execution_count": 450,
   "id": "d84ceaec",
   "metadata": {},
   "outputs": [
    {
     "data": {
      "text/plain": [
       "1"
      ]
     },
     "execution_count": 450,
     "metadata": {},
     "output_type": "execute_result"
    }
   ],
   "source": [
    "x * y // z"
   ]
  },
  {
   "cell_type": "code",
   "execution_count": 451,
   "id": "2e671e17",
   "metadata": {},
   "outputs": [
    {
     "name": "stdout",
     "output_type": "stream",
     "text": [
      "24.0\n",
      "24\n"
     ]
    }
   ],
   "source": [
    "# Simple Interest\n",
    "p = 100\n",
    "r = 12\n",
    "t = 2\n",
    "interest = p * r * t / 100\n",
    "print(interest)\n",
    "interest = p * r * t // 100\n",
    "print(interest)"
   ]
  },
  {
   "cell_type": "code",
   "execution_count": 452,
   "id": "38849443",
   "metadata": {},
   "outputs": [
    {
     "name": "stdout",
     "output_type": "stream",
     "text": [
      "81.22222222222223\n",
      "37.22222222222222\n",
      "37\n"
     ]
    }
   ],
   "source": [
    "# Fahrenheit to Celsius\n",
    "f = 99\n",
    "c = f - 32 * 5 / 9 # Wrong\n",
    "print(c)\n",
    "c = (f - 32) * 5 / 9 # Correct\n",
    "print(c)\n",
    "c = (f - 32) * 5 // 9 # Correct\n",
    "print(c)"
   ]
>>>>>>> 0d7fc4c0726f929db0eff74c2b1ebd37df1f7562
  }
 ],
 "metadata": {
  "kernelspec": {
   "display_name": "Python 3 (ipykernel)",
   "language": "python",
   "name": "python3"
  },
  "language_info": {
   "codemirror_mode": {
    "name": "ipython",
    "version": 3
   },
   "file_extension": ".py",
   "mimetype": "text/x-python",
   "name": "python",
   "nbconvert_exporter": "python",
   "pygments_lexer": "ipython3",
   "version": "3.9.12"
  }
 },
 "nbformat": 4,
 "nbformat_minor": 5
}
