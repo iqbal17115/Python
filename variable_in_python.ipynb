{
 "cells": [
  {
   "cell_type": "markdown",
   "id": "8db235dc",
   "metadata": {},
   "source": [
    "# Print HelloWorld"
   ]
  },
  {
   "cell_type": "code",
   "execution_count": 399,
   "id": "b0f0cec3",
   "metadata": {},
   "outputs": [
    {
     "name": "stdout",
     "output_type": "stream",
     "text": [
      "Hello\n",
      "Hello\n"
     ]
    }
   ],
   "source": [
    "print(\"Hello\")\n",
    "print(\"Hello\")"
   ]
  },
  {
   "cell_type": "markdown",
   "id": "136906d6",
   "metadata": {},
   "source": [
    "# Variables"
   ]
  },
  {
   "cell_type": "code",
   "execution_count": 400,
   "id": "33bae4af",
   "metadata": {},
   "outputs": [
    {
     "name": "stdout",
     "output_type": "stream",
     "text": [
      "30\n"
     ]
    }
   ],
   "source": [
    "a = 10\n",
    "b = 20\n",
    "sum = a + b\n",
    "print(sum)"
   ]
  },
  {
   "cell_type": "markdown",
   "id": "08b1c32f",
   "metadata": {},
   "source": [
    "# Variable Naming"
   ]
  },
  {
   "cell_type": "code",
   "execution_count": 401,
   "id": "dc81608b",
   "metadata": {},
   "outputs": [],
   "source": [
    "_abc = 10\n",
    "# 12_abc=20"
   ]
  },
  {
   "cell_type": "markdown",
   "id": "2e0ba5cb",
   "metadata": {},
   "source": [
    "# Assign Different Types Of Data To A Variable"
   ]
  },
  {
   "cell_type": "code",
   "execution_count": 402,
   "id": "68658334",
   "metadata": {},
   "outputs": [
    {
     "data": {
      "text/plain": [
       "str"
      ]
     },
     "execution_count": 402,
     "metadata": {},
     "output_type": "execute_result"
    }
   ],
   "source": [
    "a = 10\n",
    "a = 'Iqbal'\n",
    "type(a)"
   ]
  },
  {
   "cell_type": "code",
   "execution_count": 403,
   "id": "99ea6792",
   "metadata": {},
   "outputs": [
    {
     "data": {
      "text/plain": [
       "int"
      ]
     },
     "execution_count": 403,
     "metadata": {},
     "output_type": "execute_result"
    }
   ],
   "source": [
    "a = 10\n",
    "type(a)"
   ]
  },
  {
   "cell_type": "code",
   "execution_count": 404,
   "id": "93b2800e",
   "metadata": {},
   "outputs": [
    {
     "name": "stdout",
     "output_type": "stream",
     "text": [
      "<class 'int'>\n",
      "<class 'str'>\n"
     ]
    }
   ],
   "source": [
    "a = 10\n",
    "print(type(a))\n",
    "a = 'Iqbal'\n",
    "print(type(a))"
   ]
  },
  {
   "cell_type": "markdown",
   "id": "0e1d01ca",
   "metadata": {},
   "source": [
    "# Python Number"
   ]
  },
  {
   "cell_type": "code",
   "execution_count": 405,
   "id": "c8e7975c",
   "metadata": {},
   "outputs": [],
   "source": [
    "x = 10\n",
    "y = 20\n",
    "z = 4 + 5j"
   ]
  },
  {
   "cell_type": "code",
   "execution_count": 406,
   "id": "1cd43481",
   "metadata": {},
   "outputs": [
    {
     "name": "stdout",
     "output_type": "stream",
     "text": [
      "<class 'int'>\n",
      "<class 'int'>\n",
      "<class 'complex'>\n"
     ]
    }
   ],
   "source": [
    "print(type(x))\n",
    "print(type(y))\n",
    "print(type(z))"
   ]
  },
  {
   "cell_type": "code",
   "execution_count": 407,
   "id": "8cc13761",
   "metadata": {},
   "outputs": [],
   "source": [
    "x=10\n",
    "y=10"
   ]
  },
  {
   "cell_type": "code",
   "execution_count": 408,
   "id": "084c658a",
   "metadata": {},
   "outputs": [
    {
     "name": "stdout",
     "output_type": "stream",
     "text": [
      "1726578190928\n",
      "1726578190928\n"
     ]
    }
   ],
   "source": [
    "print(id(x))\n",
    "print(id(y))"
   ]
  },
  {
   "cell_type": "code",
   "execution_count": 409,
   "id": "c3146e32",
   "metadata": {},
   "outputs": [],
   "source": [
    "x=100\n",
    "y=100"
   ]
  },
  {
   "cell_type": "code",
   "execution_count": 410,
   "id": "39461d50",
   "metadata": {},
   "outputs": [
    {
     "name": "stdout",
     "output_type": "stream",
     "text": [
      "1726578382288\n",
      "1726578382288\n"
     ]
    }
   ],
   "source": [
    "print(id(x))\n",
    "print(id(y))"
   ]
  },
  {
   "cell_type": "markdown",
   "id": "8b8ccaae",
   "metadata": {},
   "source": [
    "# Arithmatic Operators"
   ]
  },
  {
   "cell_type": "code",
   "execution_count": 411,
   "id": "9fc4a59e",
   "metadata": {},
   "outputs": [],
   "source": [
    "a = 25\n",
    "b = 10"
   ]
  },
  {
   "cell_type": "code",
   "execution_count": 412,
   "id": "4933529a",
   "metadata": {},
   "outputs": [
    {
     "name": "stdout",
     "output_type": "stream",
     "text": [
      "35\n"
     ]
    }
   ],
   "source": [
    "print(a + b)"
   ]
  },
  {
   "cell_type": "code",
   "execution_count": 413,
   "id": "ff115804",
   "metadata": {},
   "outputs": [
    {
     "name": "stdout",
     "output_type": "stream",
     "text": [
      "15\n"
     ]
    }
   ],
   "source": [
    "print(a - b)"
   ]
  },
  {
   "cell_type": "code",
   "execution_count": 414,
   "id": "60682741",
   "metadata": {},
   "outputs": [
    {
     "name": "stdout",
     "output_type": "stream",
     "text": [
      "250\n"
     ]
    }
   ],
   "source": [
    "print(a * b)"
   ]
  },
  {
   "cell_type": "code",
   "execution_count": 415,
   "id": "41abed22",
   "metadata": {},
   "outputs": [
    {
     "name": "stdout",
     "output_type": "stream",
     "text": [
      "2.5\n"
     ]
    }
   ],
   "source": [
    "print(a / b) # Floating point division"
   ]
  },
  {
   "cell_type": "code",
   "execution_count": 416,
   "id": "4041b92c",
   "metadata": {},
   "outputs": [
    {
     "name": "stdout",
     "output_type": "stream",
     "text": [
      "2\n"
     ]
    }
   ],
   "source": [
    "print(a // b) # Integer division"
   ]
  },
  {
   "cell_type": "code",
   "execution_count": 417,
   "id": "21ea933b",
   "metadata": {},
   "outputs": [
    {
     "name": "stdout",
     "output_type": "stream",
     "text": [
      "95367431640625\n"
     ]
    }
   ],
   "source": [
    "print(a ** b) # Exponentiation"
   ]
  },
  {
   "cell_type": "code",
   "execution_count": 418,
   "id": "ddfbb9cc",
   "metadata": {},
   "outputs": [
    {
     "name": "stdout",
     "output_type": "stream",
     "text": [
      "5\n"
     ]
    }
   ],
   "source": [
    "print(a % b) # Remainder"
   ]
  },
  {
   "cell_type": "code",
   "execution_count": 419,
   "id": "e81b6814",
   "metadata": {},
   "outputs": [],
   "source": [
    "x = 2\n",
    "y = 3\n",
    "z = 4"
   ]
  },
  {
   "cell_type": "code",
   "execution_count": 420,
   "id": "8592838e",
   "metadata": {},
   "outputs": [
    {
     "data": {
      "text/plain": [
       "10"
      ]
     },
     "execution_count": 420,
     "metadata": {},
     "output_type": "execute_result"
    }
   ],
   "source": [
    "x * y + z"
   ]
  },
  {
   "cell_type": "code",
   "execution_count": 421,
   "id": "e1750ec9",
   "metadata": {},
   "outputs": [
    {
     "data": {
      "text/plain": [
       "10"
      ]
     },
     "execution_count": 421,
     "metadata": {},
     "output_type": "execute_result"
    }
   ],
   "source": [
    "z + x * y"
   ]
  },
  {
   "cell_type": "code",
   "execution_count": 422,
   "id": "99ca1ba9",
   "metadata": {},
   "outputs": [
    {
     "data": {
      "text/plain": [
       "1.5"
      ]
     },
     "execution_count": 422,
     "metadata": {},
     "output_type": "execute_result"
    }
   ],
   "source": [
    "x * y / z"
   ]
  },
  {
   "cell_type": "code",
   "execution_count": 423,
   "id": "96a531fd",
   "metadata": {},
   "outputs": [
    {
     "data": {
      "text/plain": [
       "1"
      ]
     },
     "execution_count": 423,
     "metadata": {},
     "output_type": "execute_result"
    }
   ],
   "source": [
    "x * y // z"
   ]
  },
  {
   "cell_type": "code",
   "execution_count": 424,
   "id": "cbe6c4ec",
   "metadata": {},
   "outputs": [
    {
     "name": "stdout",
     "output_type": "stream",
     "text": [
      "24.0\n",
      "24\n"
     ]
    }
   ],
   "source": [
    "# Simple Interest\n",
    "p = 100\n",
    "r = 12\n",
    "t = 2\n",
    "interest = p * r * t / 100\n",
    "print(interest)\n",
    "interest = p * r * t // 100\n",
    "print(interest)"
   ]
  },
  {
   "cell_type": "code",
   "execution_count": 425,
   "id": "82a6e199",
   "metadata": {},
   "outputs": [
    {
     "name": "stdout",
     "output_type": "stream",
     "text": [
      "81.22222222222223\n",
      "37.22222222222222\n",
      "37\n"
     ]
    }
   ],
   "source": [
    "# Fahrenheit to Celsius\n",
    "f = 99\n",
    "c = f - 32 * 5 / 9 # Wrong\n",
    "print(c)\n",
    "c = (f - 32) * 5 / 9 # Correct\n",
    "print(c)\n",
    "c = (f - 32) * 5 // 9 # Correct\n",
    "print(c)"
   ]
  }
 ],
 "metadata": {
  "kernelspec": {
   "display_name": "Python 3 (ipykernel)",
   "language": "python",
   "name": "python3"
  },
  "language_info": {
   "codemirror_mode": {
    "name": "ipython",
    "version": 3
   },
   "file_extension": ".py",
   "mimetype": "text/x-python",
   "name": "python",
   "nbconvert_exporter": "python",
   "pygments_lexer": "ipython3",
   "version": "3.9.12"
  }
 },
 "nbformat": 4,
 "nbformat_minor": 5
}
